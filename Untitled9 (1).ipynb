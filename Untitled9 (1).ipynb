{
 "cells": [
  {
   "cell_type": "code",
   "execution_count": 44,
   "id": "f16d65d1-9baf-45f1-a65b-e7e718fe9e71",
   "metadata": {},
   "outputs": [],
   "source": [
    "# Initial Imports\n",
    "import pandas as pd\n",
    "import numpy as np\n",
    "import datetime as dt\n",
    "from pathlib import Path\n",
    "%matplotlib inline"
   ]
  },
  {
   "cell_type": "code",
   "execution_count": 45,
   "id": "d7723cdf-369d-48f8-964a-5566193a998e",
   "metadata": {},
   "outputs": [],
   "source": [
    "# Assigning Path Algo Returns \n",
    "algo_returns = Path(\"C:/Users/fizza/Desktop/assignment 4 data/algo_returns.csv\")"
   ]
  },
  {
   "cell_type": "code",
   "execution_count": 46,
   "id": "2ec69a85-7d5c-4b79-9806-75bb709cd23b",
   "metadata": {},
   "outputs": [
    {
     "data": {
      "text/html": [
       "<div>\n",
       "<style scoped>\n",
       "    .dataframe tbody tr th:only-of-type {\n",
       "        vertical-align: middle;\n",
       "    }\n",
       "\n",
       "    .dataframe tbody tr th {\n",
       "        vertical-align: top;\n",
       "    }\n",
       "\n",
       "    .dataframe thead th {\n",
       "        text-align: right;\n",
       "    }\n",
       "</style>\n",
       "<table border=\"1\" class=\"dataframe\">\n",
       "  <thead>\n",
       "    <tr style=\"text-align: right;\">\n",
       "      <th></th>\n",
       "      <th>Date</th>\n",
       "      <th>Algo 1</th>\n",
       "      <th>Algo 2</th>\n",
       "    </tr>\n",
       "  </thead>\n",
       "  <tbody>\n",
       "    <tr>\n",
       "      <th>0</th>\n",
       "      <td>2014-05-28</td>\n",
       "      <td>0.001745</td>\n",
       "      <td>NaN</td>\n",
       "    </tr>\n",
       "    <tr>\n",
       "      <th>1</th>\n",
       "      <td>2014-05-29</td>\n",
       "      <td>0.003978</td>\n",
       "      <td>NaN</td>\n",
       "    </tr>\n",
       "    <tr>\n",
       "      <th>2</th>\n",
       "      <td>2014-05-30</td>\n",
       "      <td>0.004464</td>\n",
       "      <td>NaN</td>\n",
       "    </tr>\n",
       "    <tr>\n",
       "      <th>3</th>\n",
       "      <td>2014-06-02</td>\n",
       "      <td>0.005692</td>\n",
       "      <td>NaN</td>\n",
       "    </tr>\n",
       "    <tr>\n",
       "      <th>4</th>\n",
       "      <td>2014-06-03</td>\n",
       "      <td>0.005292</td>\n",
       "      <td>NaN</td>\n",
       "    </tr>\n",
       "  </tbody>\n",
       "</table>\n",
       "</div>"
      ],
      "text/plain": [
       "         Date    Algo 1  Algo 2\n",
       "0  2014-05-28  0.001745     NaN\n",
       "1  2014-05-29  0.003978     NaN\n",
       "2  2014-05-30  0.004464     NaN\n",
       "3  2014-06-02  0.005692     NaN\n",
       "4  2014-06-03  0.005292     NaN"
      ]
     },
     "execution_count": 46,
     "metadata": {},
     "output_type": "execute_result"
    }
   ],
   "source": [
    "# Reading algorithmic returns \n",
    "algo_df = pd.read_csv(algo_returns)\n",
    "algo_df.head()"
   ]
  },
  {
   "cell_type": "code",
   "execution_count": 47,
   "id": "8ee06192-0445-4256-b17d-46d169d42eb3",
   "metadata": {},
   "outputs": [
    {
     "data": {
      "text/plain": [
       "Date       object\n",
       "Algo 1    float64\n",
       "Algo 2    float64\n",
       "dtype: object"
      ]
     },
     "execution_count": 47,
     "metadata": {},
     "output_type": "execute_result"
    }
   ],
   "source": [
    "# Data Types\n",
    "algo_df.dtypes"
   ]
  },
  {
   "cell_type": "code",
   "execution_count": 48,
   "id": "98727ec0-8920-4871-a2fc-388c1453e553",
   "metadata": {},
   "outputs": [
    {
     "data": {
      "text/plain": [
       "Date      0\n",
       "Algo 1    0\n",
       "Algo 2    6\n",
       "dtype: int64"
      ]
     },
     "execution_count": 48,
     "metadata": {},
     "output_type": "execute_result"
    }
   ],
   "source": [
    "# Count Null\n",
    "algo_df.isnull().sum()"
   ]
  },
  {
   "cell_type": "code",
   "execution_count": 49,
   "id": "7d31d4c8-e05d-4994-95c6-f3e53eadbed2",
   "metadata": {},
   "outputs": [],
   "source": [
    "# Drop Null\n",
    "algo_df.dropna(inplace=True)                 "
   ]
  },
  {
   "cell_type": "code",
   "execution_count": 50,
   "id": "ade8ad3e-22b4-425a-9d60-091f81c65af3",
   "metadata": {},
   "outputs": [
    {
     "name": "stdout",
     "output_type": "stream",
     "text": [
      "            Date    Algo 1    Algo 2\n",
      "6     2014-06-05  0.004062  0.013285\n",
      "7     2014-06-06  0.001857  0.008284\n",
      "8     2014-06-09 -0.005012  0.005668\n",
      "9     2014-06-10  0.004406 -0.000735\n",
      "10    2014-06-11  0.004760 -0.003761\n",
      "...          ...       ...       ...\n",
      "1236  2019-04-25  0.000682 -0.007247\n",
      "1237  2019-04-26  0.002981  0.005256\n",
      "1238  2019-04-29  0.005208  0.002829\n",
      "1239  2019-04-30 -0.002944 -0.001570\n",
      "1240  2019-05-01  0.000094 -0.007358\n",
      "\n",
      "[1235 rows x 3 columns]\n"
     ]
    }
   ],
   "source": [
    "print(algo_df)"
   ]
  },
  {
   "cell_type": "code",
   "execution_count": 51,
   "id": "07924967-bbca-4f21-8d14-6abae820669a",
   "metadata": {},
   "outputs": [],
   "source": [
    "# Assigning Path Whale Returns \n",
    "whale_returns = Path(\"C:/Users/fizza/Desktop/assignment 4 data/whale_returns.csv\")"
   ]
  },
  {
   "cell_type": "code",
   "execution_count": 52,
   "id": "9a1a876b-fee3-4d97-8eb0-9abab92d5a1c",
   "metadata": {},
   "outputs": [
    {
     "data": {
      "text/html": [
       "<div>\n",
       "<style scoped>\n",
       "    .dataframe tbody tr th:only-of-type {\n",
       "        vertical-align: middle;\n",
       "    }\n",
       "\n",
       "    .dataframe tbody tr th {\n",
       "        vertical-align: top;\n",
       "    }\n",
       "\n",
       "    .dataframe thead th {\n",
       "        text-align: right;\n",
       "    }\n",
       "</style>\n",
       "<table border=\"1\" class=\"dataframe\">\n",
       "  <thead>\n",
       "    <tr style=\"text-align: right;\">\n",
       "      <th></th>\n",
       "      <th>Date</th>\n",
       "      <th>SOROS FUND MANAGEMENT LLC</th>\n",
       "      <th>PAULSON &amp; CO.INC.</th>\n",
       "      <th>TIGER GLOBAL MANAGEMENT LLC</th>\n",
       "      <th>BERKSHIRE HATHAWAY INC</th>\n",
       "    </tr>\n",
       "  </thead>\n",
       "  <tbody>\n",
       "    <tr>\n",
       "      <th>0</th>\n",
       "      <td>2015-03-02</td>\n",
       "      <td>NaN</td>\n",
       "      <td>NaN</td>\n",
       "      <td>NaN</td>\n",
       "      <td>NaN</td>\n",
       "    </tr>\n",
       "    <tr>\n",
       "      <th>1</th>\n",
       "      <td>2015-03-03</td>\n",
       "      <td>-0.001266</td>\n",
       "      <td>-0.004981</td>\n",
       "      <td>-0.000496</td>\n",
       "      <td>-0.006569</td>\n",
       "    </tr>\n",
       "    <tr>\n",
       "      <th>2</th>\n",
       "      <td>2015-03-04</td>\n",
       "      <td>0.002230</td>\n",
       "      <td>0.003241</td>\n",
       "      <td>-0.002534</td>\n",
       "      <td>0.004213</td>\n",
       "    </tr>\n",
       "    <tr>\n",
       "      <th>3</th>\n",
       "      <td>2015-03-05</td>\n",
       "      <td>0.004016</td>\n",
       "      <td>0.004076</td>\n",
       "      <td>0.002355</td>\n",
       "      <td>0.006726</td>\n",
       "    </tr>\n",
       "    <tr>\n",
       "      <th>4</th>\n",
       "      <td>2015-03-06</td>\n",
       "      <td>-0.007905</td>\n",
       "      <td>-0.003574</td>\n",
       "      <td>-0.008481</td>\n",
       "      <td>-0.013098</td>\n",
       "    </tr>\n",
       "  </tbody>\n",
       "</table>\n",
       "</div>"
      ],
      "text/plain": [
       "         Date  SOROS FUND MANAGEMENT LLC  PAULSON & CO.INC.   \\\n",
       "0  2015-03-02                        NaN                 NaN   \n",
       "1  2015-03-03                  -0.001266           -0.004981   \n",
       "2  2015-03-04                   0.002230            0.003241   \n",
       "3  2015-03-05                   0.004016            0.004076   \n",
       "4  2015-03-06                  -0.007905           -0.003574   \n",
       "\n",
       "   TIGER GLOBAL MANAGEMENT LLC  BERKSHIRE HATHAWAY INC  \n",
       "0                          NaN                     NaN  \n",
       "1                    -0.000496               -0.006569  \n",
       "2                    -0.002534                0.004213  \n",
       "3                     0.002355                0.006726  \n",
       "4                    -0.008481               -0.013098  "
      ]
     },
     "execution_count": 52,
     "metadata": {},
     "output_type": "execute_result"
    }
   ],
   "source": [
    "# Reading Whale Returns\n",
    "whale_df = pd.read_csv(whale_returns)\n",
    "whale_df.head()\n"
   ]
  },
  {
   "cell_type": "code",
   "execution_count": 53,
   "id": "e137cc7f-50cb-4194-9a0b-9d0876b50729",
   "metadata": {},
   "outputs": [
    {
     "data": {
      "text/plain": [
       "Date                           0\n",
       "SOROS FUND MANAGEMENT LLC      1\n",
       "PAULSON & CO.INC.              1\n",
       "TIGER GLOBAL MANAGEMENT LLC    1\n",
       "BERKSHIRE HATHAWAY INC         1\n",
       "dtype: int64"
      ]
     },
     "execution_count": 53,
     "metadata": {},
     "output_type": "execute_result"
    }
   ],
   "source": [
    "# Count Null\n",
    "whale_df.isnull().sum()"
   ]
  },
  {
   "cell_type": "code",
   "execution_count": 54,
   "id": "87cd9509-3286-4597-b1ff-5e4a44a1f244",
   "metadata": {},
   "outputs": [],
   "source": [
    "# Drop Null\n",
    "whale_df.dropna(inplace=True)"
   ]
  },
  {
   "cell_type": "code",
   "execution_count": 55,
   "id": "13a1afc0-cf0f-454f-bbb0-db5f17f58ad4",
   "metadata": {},
   "outputs": [
    {
     "name": "stdout",
     "output_type": "stream",
     "text": [
      "            Date  SOROS FUND MANAGEMENT LLC  PAULSON & CO.INC.   \\\n",
      "1     2015-03-03                  -0.001266           -0.004981   \n",
      "2     2015-03-04                   0.002230            0.003241   \n",
      "3     2015-03-05                   0.004016            0.004076   \n",
      "4     2015-03-06                  -0.007905           -0.003574   \n",
      "5     2015-03-09                   0.000582            0.004225   \n",
      "...          ...                        ...                 ...   \n",
      "1055  2019-04-25                  -0.000285           -0.001291   \n",
      "1056  2019-04-26                   0.008149            0.009162   \n",
      "1057  2019-04-29                   0.001254            0.002719   \n",
      "1058  2019-04-30                  -0.001295           -0.002211   \n",
      "1059  2019-05-01                  -0.005847           -0.001341   \n",
      "\n",
      "      TIGER GLOBAL MANAGEMENT LLC  BERKSHIRE HATHAWAY INC  \n",
      "1                       -0.000496               -0.006569  \n",
      "2                       -0.002534                0.004213  \n",
      "3                        0.002355                0.006726  \n",
      "4                       -0.008481               -0.013098  \n",
      "5                        0.005843               -0.001652  \n",
      "...                           ...                     ...  \n",
      "1055                    -0.005153                0.004848  \n",
      "1056                     0.012355                0.010434  \n",
      "1057                     0.006251                0.005223  \n",
      "1058                    -0.000259               -0.003702  \n",
      "1059                    -0.007936               -0.007833  \n",
      "\n",
      "[1059 rows x 5 columns]\n"
     ]
    }
   ],
   "source": [
    "print(whale_df)"
   ]
  },
  {
   "cell_type": "code",
   "execution_count": 56,
   "id": "29568996-0b98-4953-8933-9f113d40a486",
   "metadata": {},
   "outputs": [],
   "source": [
    "s_and_p_returns = Path(\"C:/Users/fizza/Desktop/assignment 4 data/sp_tsx_history.csv\")"
   ]
  },
  {
   "cell_type": "code",
   "execution_count": 57,
   "id": "a710efea-796e-43b9-8fd3-7df23814371e",
   "metadata": {},
   "outputs": [
    {
     "data": {
      "text/html": [
       "<div>\n",
       "<style scoped>\n",
       "    .dataframe tbody tr th:only-of-type {\n",
       "        vertical-align: middle;\n",
       "    }\n",
       "\n",
       "    .dataframe tbody tr th {\n",
       "        vertical-align: top;\n",
       "    }\n",
       "\n",
       "    .dataframe thead th {\n",
       "        text-align: right;\n",
       "    }\n",
       "</style>\n",
       "<table border=\"1\" class=\"dataframe\">\n",
       "  <thead>\n",
       "    <tr style=\"text-align: right;\">\n",
       "      <th></th>\n",
       "      <th>Date</th>\n",
       "      <th>Close</th>\n",
       "    </tr>\n",
       "  </thead>\n",
       "  <tbody>\n",
       "    <tr>\n",
       "      <th>0</th>\n",
       "      <td>01-Oct-12</td>\n",
       "      <td>$12,370.19</td>\n",
       "    </tr>\n",
       "    <tr>\n",
       "      <th>1</th>\n",
       "      <td>02-Oct-12</td>\n",
       "      <td>$12,391.23</td>\n",
       "    </tr>\n",
       "    <tr>\n",
       "      <th>2</th>\n",
       "      <td>03-Oct-12</td>\n",
       "      <td>$12,359.47</td>\n",
       "    </tr>\n",
       "    <tr>\n",
       "      <th>3</th>\n",
       "      <td>04-Oct-12</td>\n",
       "      <td>$12,447.68</td>\n",
       "    </tr>\n",
       "    <tr>\n",
       "      <th>4</th>\n",
       "      <td>05-Oct-12</td>\n",
       "      <td>$12,418.99</td>\n",
       "    </tr>\n",
       "  </tbody>\n",
       "</table>\n",
       "</div>"
      ],
      "text/plain": [
       "        Date       Close\n",
       "0  01-Oct-12  $12,370.19\n",
       "1  02-Oct-12  $12,391.23\n",
       "2  03-Oct-12  $12,359.47\n",
       "3  04-Oct-12  $12,447.68\n",
       "4  05-Oct-12  $12,418.99"
      ]
     },
     "execution_count": 57,
     "metadata": {},
     "output_type": "execute_result"
    }
   ],
   "source": [
    "s_and_p_df = pd.read_csv(s_and_p_returns)\n",
    "s_and_p_df.head()"
   ]
  },
  {
   "cell_type": "code",
   "execution_count": 58,
   "id": "13c346e0-5fed-46c3-960b-77f49bbd93f6",
   "metadata": {},
   "outputs": [
    {
     "data": {
      "text/html": [
       "<div>\n",
       "<style scoped>\n",
       "    .dataframe tbody tr th:only-of-type {\n",
       "        vertical-align: middle;\n",
       "    }\n",
       "\n",
       "    .dataframe tbody tr th {\n",
       "        vertical-align: top;\n",
       "    }\n",
       "\n",
       "    .dataframe thead th {\n",
       "        text-align: right;\n",
       "    }\n",
       "</style>\n",
       "<table border=\"1\" class=\"dataframe\">\n",
       "  <thead>\n",
       "    <tr style=\"text-align: right;\">\n",
       "      <th></th>\n",
       "      <th>Date</th>\n",
       "      <th>Close</th>\n",
       "    </tr>\n",
       "    <tr>\n",
       "      <th>Date</th>\n",
       "      <th></th>\n",
       "      <th></th>\n",
       "    </tr>\n",
       "  </thead>\n",
       "  <tbody>\n",
       "    <tr>\n",
       "      <th>2012-10-01</th>\n",
       "      <td>01-Oct-12</td>\n",
       "      <td>$12,370.19</td>\n",
       "    </tr>\n",
       "    <tr>\n",
       "      <th>2012-10-02</th>\n",
       "      <td>02-Oct-12</td>\n",
       "      <td>$12,391.23</td>\n",
       "    </tr>\n",
       "    <tr>\n",
       "      <th>2012-10-03</th>\n",
       "      <td>03-Oct-12</td>\n",
       "      <td>$12,359.47</td>\n",
       "    </tr>\n",
       "    <tr>\n",
       "      <th>2012-10-04</th>\n",
       "      <td>04-Oct-12</td>\n",
       "      <td>$12,447.68</td>\n",
       "    </tr>\n",
       "    <tr>\n",
       "      <th>2012-10-05</th>\n",
       "      <td>05-Oct-12</td>\n",
       "      <td>$12,418.99</td>\n",
       "    </tr>\n",
       "  </tbody>\n",
       "</table>\n",
       "</div>"
      ],
      "text/plain": [
       "                 Date       Close\n",
       "Date                             \n",
       "2012-10-01  01-Oct-12  $12,370.19\n",
       "2012-10-02  02-Oct-12  $12,391.23\n",
       "2012-10-03  03-Oct-12  $12,359.47\n",
       "2012-10-04  04-Oct-12  $12,447.68\n",
       "2012-10-05  05-Oct-12  $12,418.99"
      ]
     },
     "execution_count": 58,
     "metadata": {},
     "output_type": "execute_result"
    }
   ],
   "source": [
    "# Set Date as index\n",
    "s_and_p_df.set_index(pd.to_datetime(s_and_p_df['Date'], infer_datetime_format=True), inplace=True)\n",
    "s_and_p_df.head()"
   ]
  },
  {
   "cell_type": "code",
   "execution_count": 59,
   "id": "0839693c-aa68-42e1-86f1-61f45c647f6e",
   "metadata": {},
   "outputs": [
    {
     "data": {
      "text/html": [
       "<div>\n",
       "<style scoped>\n",
       "    .dataframe tbody tr th:only-of-type {\n",
       "        vertical-align: middle;\n",
       "    }\n",
       "\n",
       "    .dataframe tbody tr th {\n",
       "        vertical-align: top;\n",
       "    }\n",
       "\n",
       "    .dataframe thead th {\n",
       "        text-align: right;\n",
       "    }\n",
       "</style>\n",
       "<table border=\"1\" class=\"dataframe\">\n",
       "  <thead>\n",
       "    <tr style=\"text-align: right;\">\n",
       "      <th></th>\n",
       "      <th>Close</th>\n",
       "    </tr>\n",
       "    <tr>\n",
       "      <th>Date</th>\n",
       "      <th></th>\n",
       "    </tr>\n",
       "  </thead>\n",
       "  <tbody>\n",
       "    <tr>\n",
       "      <th>2012-10-01</th>\n",
       "      <td>$12,370.19</td>\n",
       "    </tr>\n",
       "    <tr>\n",
       "      <th>2012-10-02</th>\n",
       "      <td>$12,391.23</td>\n",
       "    </tr>\n",
       "    <tr>\n",
       "      <th>2012-10-03</th>\n",
       "      <td>$12,359.47</td>\n",
       "    </tr>\n",
       "    <tr>\n",
       "      <th>2012-10-04</th>\n",
       "      <td>$12,447.68</td>\n",
       "    </tr>\n",
       "    <tr>\n",
       "      <th>2012-10-05</th>\n",
       "      <td>$12,418.99</td>\n",
       "    </tr>\n",
       "  </tbody>\n",
       "</table>\n",
       "</div>"
      ],
      "text/plain": [
       "                 Close\n",
       "Date                  \n",
       "2012-10-01  $12,370.19\n",
       "2012-10-02  $12,391.23\n",
       "2012-10-03  $12,359.47\n",
       "2012-10-04  $12,447.68\n",
       "2012-10-05  $12,418.99"
      ]
     },
     "execution_count": 59,
     "metadata": {},
     "output_type": "execute_result"
    }
   ],
   "source": [
    "s_and_p_df.drop(columns=['Date'], inplace=True)\n",
    "s_and_p_df.head()"
   ]
  },
  {
   "cell_type": "code",
   "execution_count": 60,
   "id": "0e561559-d982-4d73-a31a-01e2a7607964",
   "metadata": {},
   "outputs": [
    {
     "name": "stdout",
     "output_type": "stream",
     "text": [
      "                Close\n",
      "Date                 \n",
      "2012-10-01  12,370.19\n",
      "2012-10-02  12,391.23\n",
      "2012-10-03  12,359.47\n",
      "2012-10-04  12,447.68\n",
      "2012-10-05  12,418.99\n",
      "...               ...\n",
      "2019-12-20  17,118.44\n",
      "2019-12-23  17,128.71\n",
      "2019-12-24  17,180.15\n",
      "2019-12-27  17,168.21\n",
      "2019-12-30  17,098.56\n",
      "\n",
      "[1818 rows x 1 columns]\n"
     ]
    },
    {
     "name": "stderr",
     "output_type": "stream",
     "text": [
      "C:\\Users\\fizza\\AppData\\Local\\Temp\\ipykernel_8812\\4199574272.py:2: FutureWarning: The default value of regex will change from True to False in a future version.\n",
      "  s_and_p_df['Close'] = s_and_p_df['Close'].str.replace(r'\\$', \"\")\n"
     ]
    }
   ],
   "source": [
    "# Remove Special Character\n",
    "s_and_p_df['Close'] = s_and_p_df['Close'].str.replace(r'\\$', \"\")\n",
    "print(s_and_p_df)"
   ]
  },
  {
   "cell_type": "code",
   "execution_count": 61,
   "id": "99ddc84e-e286-496f-aa07-81e09bc8947a",
   "metadata": {},
   "outputs": [
    {
     "name": "stdout",
     "output_type": "stream",
     "text": [
      "               Close\n",
      "Date                \n",
      "2012-10-01  12370.19\n",
      "2012-10-02  12391.23\n",
      "2012-10-03  12359.47\n",
      "2012-10-04  12447.68\n",
      "2012-10-05  12418.99\n",
      "...              ...\n",
      "2019-12-20  17118.44\n",
      "2019-12-23  17128.71\n",
      "2019-12-24  17180.15\n",
      "2019-12-27  17168.21\n",
      "2019-12-30  17098.56\n",
      "\n",
      "[1818 rows x 1 columns]\n"
     ]
    }
   ],
   "source": [
    "# Remove Commas\n",
    "s_and_p_df['Close'] = s_and_p_df['Close'].str.replace(',', \"\")\n",
    "print(s_and_p_df)"
   ]
  },
  {
   "cell_type": "code",
   "execution_count": 62,
   "id": "63071ca0-8990-47f7-ab51-eb38b36cba16",
   "metadata": {},
   "outputs": [
    {
     "data": {
      "text/plain": [
       "Date\n",
       "2012-10-01         NaN\n",
       "2012-10-02    0.001701\n",
       "2012-10-03   -0.002563\n",
       "2012-10-04    0.007137\n",
       "2012-10-05   -0.002305\n",
       "Name: Close, dtype: float64"
      ]
     },
     "execution_count": 62,
     "metadata": {},
     "output_type": "execute_result"
    }
   ],
   "source": [
    "daily_returns_s_and_p = s_and_p_df['Close'].astype(float).pct_change()\n",
    "daily_returns_s_and_p.head()"
   ]
  },
  {
   "cell_type": "code",
   "execution_count": 63,
   "id": "c8f26fba-9ae0-414f-85af-ebcfea705da0",
   "metadata": {},
   "outputs": [
    {
     "data": {
      "text/html": [
       "<div>\n",
       "<style scoped>\n",
       "    .dataframe tbody tr th:only-of-type {\n",
       "        vertical-align: middle;\n",
       "    }\n",
       "\n",
       "    .dataframe tbody tr th {\n",
       "        vertical-align: top;\n",
       "    }\n",
       "\n",
       "    .dataframe thead th {\n",
       "        text-align: right;\n",
       "    }\n",
       "</style>\n",
       "<table border=\"1\" class=\"dataframe\">\n",
       "  <thead>\n",
       "    <tr style=\"text-align: right;\">\n",
       "      <th></th>\n",
       "      <th>Close</th>\n",
       "    </tr>\n",
       "    <tr>\n",
       "      <th>Date</th>\n",
       "      <th></th>\n",
       "    </tr>\n",
       "  </thead>\n",
       "  <tbody>\n",
       "    <tr>\n",
       "      <th>2012-10-01</th>\n",
       "      <td>12370.19</td>\n",
       "    </tr>\n",
       "    <tr>\n",
       "      <th>2012-10-02</th>\n",
       "      <td>12391.23</td>\n",
       "    </tr>\n",
       "    <tr>\n",
       "      <th>2012-10-03</th>\n",
       "      <td>12359.47</td>\n",
       "    </tr>\n",
       "    <tr>\n",
       "      <th>2012-10-04</th>\n",
       "      <td>12447.68</td>\n",
       "    </tr>\n",
       "    <tr>\n",
       "      <th>2012-10-05</th>\n",
       "      <td>12418.99</td>\n",
       "    </tr>\n",
       "  </tbody>\n",
       "</table>\n",
       "</div>"
      ],
      "text/plain": [
       "               Close\n",
       "Date                \n",
       "2012-10-01  12370.19\n",
       "2012-10-02  12391.23\n",
       "2012-10-03  12359.47\n",
       "2012-10-04  12447.68\n",
       "2012-10-05  12418.99"
      ]
     },
     "execution_count": 63,
     "metadata": {},
     "output_type": "execute_result"
    }
   ],
   "source": [
    "s_and_p_df.head()"
   ]
  },
  {
   "cell_type": "code",
   "execution_count": 64,
   "id": "4f17ac74-037d-4c2d-8278-5a69069c148e",
   "metadata": {},
   "outputs": [
    {
     "data": {
      "text/html": [
       "<div>\n",
       "<style scoped>\n",
       "    .dataframe tbody tr th:only-of-type {\n",
       "        vertical-align: middle;\n",
       "    }\n",
       "\n",
       "    .dataframe tbody tr th {\n",
       "        vertical-align: top;\n",
       "    }\n",
       "\n",
       "    .dataframe thead th {\n",
       "        text-align: right;\n",
       "    }\n",
       "</style>\n",
       "<table border=\"1\" class=\"dataframe\">\n",
       "  <thead>\n",
       "    <tr style=\"text-align: right;\">\n",
       "      <th></th>\n",
       "      <th>Close</th>\n",
       "    </tr>\n",
       "    <tr>\n",
       "      <th>Date</th>\n",
       "      <th></th>\n",
       "    </tr>\n",
       "  </thead>\n",
       "  <tbody>\n",
       "    <tr>\n",
       "      <th>2012-10-01</th>\n",
       "      <td>12370.19</td>\n",
       "    </tr>\n",
       "    <tr>\n",
       "      <th>2012-10-02</th>\n",
       "      <td>12391.23</td>\n",
       "    </tr>\n",
       "    <tr>\n",
       "      <th>2012-10-03</th>\n",
       "      <td>12359.47</td>\n",
       "    </tr>\n",
       "    <tr>\n",
       "      <th>2012-10-04</th>\n",
       "      <td>12447.68</td>\n",
       "    </tr>\n",
       "    <tr>\n",
       "      <th>2012-10-05</th>\n",
       "      <td>12418.99</td>\n",
       "    </tr>\n",
       "  </tbody>\n",
       "</table>\n",
       "</div>"
      ],
      "text/plain": [
       "               Close\n",
       "Date                \n",
       "2012-10-01  12370.19\n",
       "2012-10-02  12391.23\n",
       "2012-10-03  12359.47\n",
       "2012-10-04  12447.68\n",
       "2012-10-05  12418.99"
      ]
     },
     "execution_count": 64,
     "metadata": {},
     "output_type": "execute_result"
    }
   ],
   "source": [
    "#Dropping Null\n",
    "s_and_p_df.dropna(inplace=True)\n",
    "s_and_p_df.head()"
   ]
  },
  {
   "cell_type": "code",
   "execution_count": 65,
   "id": "6ba17a14-1a7a-4ca4-855e-39db5a1f0f94",
   "metadata": {},
   "outputs": [
    {
     "data": {
      "text/plain": [
       "<AxesSubplot:xlabel='Date'>"
      ]
     },
     "execution_count": 65,
     "metadata": {},
     "output_type": "execute_result"
    },
    {
     "data": {
      "image/png": "[encoded data removed]",
      "text/plain": [
       "<Figure size 432x288 with 1 Axes>"
      ]
     },
     "metadata": {
      "needs_background": "light"
     },
     "output_type": "display_data"
    }
   ],
   "source": [
    "s_and_p_df.astype(float).plot()"
   ]
  },
  {
   "cell_type": "code",
   "execution_count": 66,
   "id": "39f4f98a-488f-490e-8f1c-97843729cddd",
   "metadata": {},
   "outputs": [
    {
     "data": {
      "text/html": [
       "<div>\n",
       "<style scoped>\n",
       "    .dataframe tbody tr th:only-of-type {\n",
       "        vertical-align: middle;\n",
       "    }\n",
       "\n",
       "    .dataframe tbody tr th {\n",
       "        vertical-align: top;\n",
       "    }\n",
       "\n",
       "    .dataframe thead th {\n",
       "        text-align: right;\n",
       "    }\n",
       "</style>\n",
       "<table border=\"1\" class=\"dataframe\">\n",
       "  <thead>\n",
       "    <tr style=\"text-align: right;\">\n",
       "      <th></th>\n",
       "      <th>Close</th>\n",
       "    </tr>\n",
       "    <tr>\n",
       "      <th>Date</th>\n",
       "      <th></th>\n",
       "    </tr>\n",
       "  </thead>\n",
       "  <tbody>\n",
       "    <tr>\n",
       "      <th>2012-10-01</th>\n",
       "      <td>12370.19</td>\n",
       "    </tr>\n",
       "    <tr>\n",
       "      <th>2012-10-02</th>\n",
       "      <td>12391.23</td>\n",
       "    </tr>\n",
       "    <tr>\n",
       "      <th>2012-10-03</th>\n",
       "      <td>12359.47</td>\n",
       "    </tr>\n",
       "    <tr>\n",
       "      <th>2012-10-04</th>\n",
       "      <td>12447.68</td>\n",
       "    </tr>\n",
       "    <tr>\n",
       "      <th>2012-10-05</th>\n",
       "      <td>12418.99</td>\n",
       "    </tr>\n",
       "  </tbody>\n",
       "</table>\n",
       "</div>"
      ],
      "text/plain": [
       "               Close\n",
       "Date                \n",
       "2012-10-01  12370.19\n",
       "2012-10-02  12391.23\n",
       "2012-10-03  12359.47\n",
       "2012-10-04  12447.68\n",
       "2012-10-05  12418.99"
      ]
     },
     "execution_count": 66,
     "metadata": {},
     "output_type": "execute_result"
    }
   ],
   "source": [
    "s_and_p_df.head()"
   ]
  },
  {
   "cell_type": "code",
   "execution_count": 67,
   "id": "125d2662-c857-4180-93d1-88b3a13c53bd",
   "metadata": {},
   "outputs": [
    {
     "data": {
      "text/html": [
       "<div>\n",
       "<style scoped>\n",
       "    .dataframe tbody tr th:only-of-type {\n",
       "        vertical-align: middle;\n",
       "    }\n",
       "\n",
       "    .dataframe tbody tr th {\n",
       "        vertical-align: top;\n",
       "    }\n",
       "\n",
       "    .dataframe thead th {\n",
       "        text-align: right;\n",
       "    }\n",
       "</style>\n",
       "<table border=\"1\" class=\"dataframe\">\n",
       "  <thead>\n",
       "    <tr style=\"text-align: right;\">\n",
       "      <th></th>\n",
       "      <th>SnP_TSX</th>\n",
       "    </tr>\n",
       "    <tr>\n",
       "      <th>Date</th>\n",
       "      <th></th>\n",
       "    </tr>\n",
       "  </thead>\n",
       "  <tbody>\n",
       "    <tr>\n",
       "      <th>2012-10-01</th>\n",
       "      <td>12370.19</td>\n",
       "    </tr>\n",
       "    <tr>\n",
       "      <th>2012-10-02</th>\n",
       "      <td>12391.23</td>\n",
       "    </tr>\n",
       "    <tr>\n",
       "      <th>2012-10-03</th>\n",
       "      <td>12359.47</td>\n",
       "    </tr>\n",
       "    <tr>\n",
       "      <th>2012-10-04</th>\n",
       "      <td>12447.68</td>\n",
       "    </tr>\n",
       "    <tr>\n",
       "      <th>2012-10-05</th>\n",
       "      <td>12418.99</td>\n",
       "    </tr>\n",
       "  </tbody>\n",
       "</table>\n",
       "</div>"
      ],
      "text/plain": [
       "             SnP_TSX\n",
       "Date                \n",
       "2012-10-01  12370.19\n",
       "2012-10-02  12391.23\n",
       "2012-10-03  12359.47\n",
       "2012-10-04  12447.68\n",
       "2012-10-05  12418.99"
      ]
     },
     "execution_count": 67,
     "metadata": {},
     "output_type": "execute_result"
    }
   ],
   "source": [
    "columns = [\"SnP_TSX\"]\n",
    "s_and_p_df.columns = columns\n",
    "s_and_p_df.head()"
   ]
  },
  {
   "cell_type": "code",
   "execution_count": 68,
   "id": "88409837-1156-4c8c-9da7-3e3d9a6b1921",
   "metadata": {},
   "outputs": [
    {
     "data": {
      "text/plain": [
       "<AxesSubplot:xlabel='Date'>"
      ]
     },
     "execution_count": 68,
     "metadata": {},
     "output_type": "execute_result"
    },
    {
     "data": {
      "image/png": "[encoded data removed]",
      "text/plain": [
       "<Figure size 432x288 with 1 Axes>"
      ]
     },
     "metadata": {
      "needs_background": "light"
     },
     "output_type": "display_data"
    }
   ],
   "source": [
    "daily_returns_s_and_p.plot()"
   ]
  },
  {
   "cell_type": "code",
   "execution_count": 69,
   "id": "ccf3d36c-1234-48a3-9890-06f0843fa69e",
   "metadata": {},
   "outputs": [],
   "source": [
    "algo_df = pd.read_csv(algo_returns, index_col=\"Date\", parse_dates=True, infer_datetime_format=True)\n",
    "whale_df = pd.read_csv(whale_returns, index_col=\"Date\", parse_dates=True, infer_datetime_format=True)\n",
    "s_and_p_df = pd.read_csv(s_and_p_returns, index_col=\"Date\", parse_dates=True, infer_datetime_format=True)\n",
    "\n"
   ]
  },
  {
   "cell_type": "code",
   "execution_count": 70,
   "id": "9372d96f-1ae6-449f-824c-5f17c4589f06",
   "metadata": {},
   "outputs": [
    {
     "data": {
      "text/html": [
       "<div>\n",
       "<style scoped>\n",
       "    .dataframe tbody tr th:only-of-type {\n",
       "        vertical-align: middle;\n",
       "    }\n",
       "\n",
       "    .dataframe tbody tr th {\n",
       "        vertical-align: top;\n",
       "    }\n",
       "\n",
       "    .dataframe thead th {\n",
       "        text-align: right;\n",
       "    }\n",
       "</style>\n",
       "<table border=\"1\" class=\"dataframe\">\n",
       "  <thead>\n",
       "    <tr style=\"text-align: right;\">\n",
       "      <th></th>\n",
       "      <th>Close</th>\n",
       "    </tr>\n",
       "    <tr>\n",
       "      <th>Date</th>\n",
       "      <th></th>\n",
       "    </tr>\n",
       "  </thead>\n",
       "  <tbody>\n",
       "    <tr>\n",
       "      <th>2012-10-01</th>\n",
       "      <td>$12,370.19</td>\n",
       "    </tr>\n",
       "    <tr>\n",
       "      <th>2012-10-02</th>\n",
       "      <td>$12,391.23</td>\n",
       "    </tr>\n",
       "    <tr>\n",
       "      <th>2012-10-03</th>\n",
       "      <td>$12,359.47</td>\n",
       "    </tr>\n",
       "    <tr>\n",
       "      <th>2012-10-04</th>\n",
       "      <td>$12,447.68</td>\n",
       "    </tr>\n",
       "    <tr>\n",
       "      <th>2012-10-05</th>\n",
       "      <td>$12,418.99</td>\n",
       "    </tr>\n",
       "  </tbody>\n",
       "</table>\n",
       "</div>"
      ],
      "text/plain": [
       "                 Close\n",
       "Date                  \n",
       "2012-10-01  $12,370.19\n",
       "2012-10-02  $12,391.23\n",
       "2012-10-03  $12,359.47\n",
       "2012-10-04  $12,447.68\n",
       "2012-10-05  $12,418.99"
      ]
     },
     "execution_count": 70,
     "metadata": {},
     "output_type": "execute_result"
    }
   ],
   "source": [
    "s_and_p_df.head()"
   ]
  },
  {
   "cell_type": "code",
   "execution_count": 71,
   "id": "e1ec5d5f-5f71-4df0-a515-8466cc401bfa",
   "metadata": {},
   "outputs": [],
   "source": [
    "combined_potfolios_df = pd.concat([algo_df, whale_df, s_and_p_df], axis=\"columns\", join=\"inner\")"
   ]
  },
  {
   "cell_type": "code",
   "execution_count": 72,
   "id": "d4672cc4-f513-463f-97b7-bc28a2879087",
   "metadata": {},
   "outputs": [],
   "source": [
    "combined_potfolios_df.sort_index(inplace=True)"
   ]
  },
  {
   "cell_type": "code",
   "execution_count": 73,
   "id": "c751cacb-b0f2-40a0-bfae-f8b4d8dd19c4",
   "metadata": {},
   "outputs": [
    {
     "data": {
      "text/html": [
       "<div>\n",
       "<style scoped>\n",
       "    .dataframe tbody tr th:only-of-type {\n",
       "        vertical-align: middle;\n",
       "    }\n",
       "\n",
       "    .dataframe tbody tr th {\n",
       "        vertical-align: top;\n",
       "    }\n",
       "\n",
       "    .dataframe thead th {\n",
       "        text-align: right;\n",
       "    }\n",
       "</style>\n",
       "<table border=\"1\" class=\"dataframe\">\n",
       "  <thead>\n",
       "    <tr style=\"text-align: right;\">\n",
       "      <th></th>\n",
       "      <th>Algo 1</th>\n",
       "      <th>Algo 2</th>\n",
       "      <th>SOROS FUND MANAGEMENT LLC</th>\n",
       "      <th>PAULSON &amp; CO.INC.</th>\n",
       "      <th>TIGER GLOBAL MANAGEMENT LLC</th>\n",
       "      <th>BERKSHIRE HATHAWAY INC</th>\n",
       "      <th>Close</th>\n",
       "    </tr>\n",
       "    <tr>\n",
       "      <th>Date</th>\n",
       "      <th></th>\n",
       "      <th></th>\n",
       "      <th></th>\n",
       "      <th></th>\n",
       "      <th></th>\n",
       "      <th></th>\n",
       "      <th></th>\n",
       "    </tr>\n",
       "  </thead>\n",
       "  <tbody>\n",
       "    <tr>\n",
       "      <th>2015-03-02</th>\n",
       "      <td>-0.008158</td>\n",
       "      <td>0.003200</td>\n",
       "      <td>NaN</td>\n",
       "      <td>NaN</td>\n",
       "      <td>NaN</td>\n",
       "      <td>NaN</td>\n",
       "      <td>$15,264.05</td>\n",
       "    </tr>\n",
       "    <tr>\n",
       "      <th>2015-03-03</th>\n",
       "      <td>-0.001942</td>\n",
       "      <td>-0.000949</td>\n",
       "      <td>-0.001266</td>\n",
       "      <td>-0.004981</td>\n",
       "      <td>-0.000496</td>\n",
       "      <td>-0.006569</td>\n",
       "      <td>$15,133.85</td>\n",
       "    </tr>\n",
       "    <tr>\n",
       "      <th>2015-03-04</th>\n",
       "      <td>-0.008589</td>\n",
       "      <td>0.002416</td>\n",
       "      <td>0.002230</td>\n",
       "      <td>0.003241</td>\n",
       "      <td>-0.002534</td>\n",
       "      <td>0.004213</td>\n",
       "      <td>$15,082.84</td>\n",
       "    </tr>\n",
       "    <tr>\n",
       "      <th>2015-03-05</th>\n",
       "      <td>-0.000955</td>\n",
       "      <td>0.004323</td>\n",
       "      <td>0.004016</td>\n",
       "      <td>0.004076</td>\n",
       "      <td>0.002355</td>\n",
       "      <td>0.006726</td>\n",
       "      <td>$15,103.11</td>\n",
       "    </tr>\n",
       "    <tr>\n",
       "      <th>2015-03-06</th>\n",
       "      <td>-0.004957</td>\n",
       "      <td>-0.011460</td>\n",
       "      <td>-0.007905</td>\n",
       "      <td>-0.003574</td>\n",
       "      <td>-0.008481</td>\n",
       "      <td>-0.013098</td>\n",
       "      <td>$14,952.50</td>\n",
       "    </tr>\n",
       "  </tbody>\n",
       "</table>\n",
       "</div>"
      ],
      "text/plain": [
       "              Algo 1    Algo 2  SOROS FUND MANAGEMENT LLC  PAULSON & CO.INC.   \\\n",
       "Date                                                                            \n",
       "2015-03-02 -0.008158  0.003200                        NaN                 NaN   \n",
       "2015-03-03 -0.001942 -0.000949                  -0.001266           -0.004981   \n",
       "2015-03-04 -0.008589  0.002416                   0.002230            0.003241   \n",
       "2015-03-05 -0.000955  0.004323                   0.004016            0.004076   \n",
       "2015-03-06 -0.004957 -0.011460                  -0.007905           -0.003574   \n",
       "\n",
       "            TIGER GLOBAL MANAGEMENT LLC  BERKSHIRE HATHAWAY INC       Close  \n",
       "Date                                                                         \n",
       "2015-03-02                          NaN                     NaN  $15,264.05  \n",
       "2015-03-03                    -0.000496               -0.006569  $15,133.85  \n",
       "2015-03-04                    -0.002534                0.004213  $15,082.84  \n",
       "2015-03-05                     0.002355                0.006726  $15,103.11  \n",
       "2015-03-06                    -0.008481               -0.013098  $14,952.50  "
      ]
     },
     "execution_count": 73,
     "metadata": {},
     "output_type": "execute_result"
    }
   ],
   "source": [
    "combined_potfolios_df.head()"
   ]
  },
  {
   "cell_type": "code",
   "execution_count": 74,
   "id": "c07692b3-03ea-4d98-8a33-2f1db989f66f",
   "metadata": {},
   "outputs": [
    {
     "name": "stdout",
     "output_type": "stream",
     "text": [
      "              Algo 1    Algo 2  SOROS FUND MANAGEMENT LLC  PAULSON & CO.INC.   \\\n",
      "Date                                                                            \n",
      "2015-03-02 -0.008158  0.003200                        NaN                 NaN   \n",
      "2015-03-03 -0.001942 -0.000949                  -0.001266           -0.004981   \n",
      "2015-03-04 -0.008589  0.002416                   0.002230            0.003241   \n",
      "2015-03-05 -0.000955  0.004323                   0.004016            0.004076   \n",
      "2015-03-06 -0.004957 -0.011460                  -0.007905           -0.003574   \n",
      "...              ...       ...                        ...                 ...   \n",
      "2019-04-25  0.000682 -0.007247                  -0.000285           -0.001291   \n",
      "2019-04-26  0.002981  0.005256                   0.008149            0.009162   \n",
      "2019-04-29  0.005208  0.002829                   0.001254            0.002719   \n",
      "2019-04-30 -0.002944 -0.001570                  -0.001295           -0.002211   \n",
      "2019-05-01  0.000094 -0.007358                  -0.005847           -0.001341   \n",
      "\n",
      "            TIGER GLOBAL MANAGEMENT LLC  BERKSHIRE HATHAWAY INC      Close  \n",
      "Date                                                                        \n",
      "2015-03-02                          NaN                     NaN  15,264.05  \n",
      "2015-03-03                    -0.000496               -0.006569  15,133.85  \n",
      "2015-03-04                    -0.002534                0.004213  15,082.84  \n",
      "2015-03-05                     0.002355                0.006726  15,103.11  \n",
      "2015-03-06                    -0.008481               -0.013098  14,952.50  \n",
      "...                                 ...                     ...        ...  \n",
      "2019-04-25                    -0.005153                0.004848  16,576.10  \n",
      "2019-04-26                     0.012355                0.010434  16,613.46  \n",
      "2019-04-29                     0.006251                0.005223  16,600.37  \n",
      "2019-04-30                    -0.000259               -0.003702  16,580.73  \n",
      "2019-05-01                    -0.007936               -0.007833  16,502.75  \n",
      "\n",
      "[1030 rows x 7 columns]\n"
     ]
    },
    {
     "name": "stderr",
     "output_type": "stream",
     "text": [
      "C:\\Users\\fizza\\AppData\\Local\\Temp\\ipykernel_8812\\780137770.py:2: FutureWarning: The default value of regex will change from True to False in a future version.\n",
      "  combined_potfolios_df['Close'] = combined_potfolios_df['Close'].str.replace(r'\\$', \"\")\n"
     ]
    }
   ],
   "source": [
    "# Remove Special Characters in Porfolios\n",
    "combined_potfolios_df['Close'] = combined_potfolios_df['Close'].str.replace(r'\\$', \"\")\n",
    "print(combined_potfolios_df)"
   ]
  },
  {
   "cell_type": "code",
   "execution_count": 75,
   "id": "8619120b-7144-42ad-9664-e1148022cf55",
   "metadata": {},
   "outputs": [
    {
     "name": "stdout",
     "output_type": "stream",
     "text": [
      "              Algo 1    Algo 2  SOROS FUND MANAGEMENT LLC  PAULSON & CO.INC.   \\\n",
      "Date                                                                            \n",
      "2015-03-02 -0.008158  0.003200                        NaN                 NaN   \n",
      "2015-03-03 -0.001942 -0.000949                  -0.001266           -0.004981   \n",
      "2015-03-04 -0.008589  0.002416                   0.002230            0.003241   \n",
      "2015-03-05 -0.000955  0.004323                   0.004016            0.004076   \n",
      "2015-03-06 -0.004957 -0.011460                  -0.007905           -0.003574   \n",
      "...              ...       ...                        ...                 ...   \n",
      "2019-04-25  0.000682 -0.007247                  -0.000285           -0.001291   \n",
      "2019-04-26  0.002981  0.005256                   0.008149            0.009162   \n",
      "2019-04-29  0.005208  0.002829                   0.001254            0.002719   \n",
      "2019-04-30 -0.002944 -0.001570                  -0.001295           -0.002211   \n",
      "2019-05-01  0.000094 -0.007358                  -0.005847           -0.001341   \n",
      "\n",
      "            TIGER GLOBAL MANAGEMENT LLC  BERKSHIRE HATHAWAY INC     Close  \n",
      "Date                                                                       \n",
      "2015-03-02                          NaN                     NaN  15264.05  \n",
      "2015-03-03                    -0.000496               -0.006569  15133.85  \n",
      "2015-03-04                    -0.002534                0.004213  15082.84  \n",
      "2015-03-05                     0.002355                0.006726  15103.11  \n",
      "2015-03-06                    -0.008481               -0.013098  14952.50  \n",
      "...                                 ...                     ...       ...  \n",
      "2019-04-25                    -0.005153                0.004848  16576.10  \n",
      "2019-04-26                     0.012355                0.010434  16613.46  \n",
      "2019-04-29                     0.006251                0.005223  16600.37  \n",
      "2019-04-30                    -0.000259               -0.003702  16580.73  \n",
      "2019-05-01                    -0.007936               -0.007833  16502.75  \n",
      "\n",
      "[1030 rows x 7 columns]\n"
     ]
    }
   ],
   "source": [
    "# Remove Commas\n",
    "combined_potfolios_df['Close'] = combined_potfolios_df['Close'].str.replace(',', \"\")\n",
    "print(combined_potfolios_df)"
   ]
  },
  {
   "cell_type": "code",
   "execution_count": 76,
   "id": "d48a6a0b-9836-4eb1-8fea-2f2861cf6eaa",
   "metadata": {},
   "outputs": [
    {
     "data": {
      "text/plain": [
       "Date\n",
       "2015-03-02         NaN\n",
       "2015-03-03   -0.008530\n",
       "2015-03-04   -0.003371\n",
       "2015-03-05    0.001344\n",
       "2015-03-06   -0.009972\n",
       "Name: Close, dtype: float64"
      ]
     },
     "execution_count": 76,
     "metadata": {},
     "output_type": "execute_result"
    }
   ],
   "source": [
    "daily_returns_porfolios = combined_potfolios_df['Close'].astype(float).pct_change()\n",
    "daily_returns_porfolios.head()"
   ]
  },
  {
   "cell_type": "code",
   "execution_count": 77,
   "id": "4e26163c-d497-49b2-8ac0-ff1995edc899",
   "metadata": {},
   "outputs": [
    {
     "data": {
      "text/plain": [
       "<AxesSubplot:xlabel='Date'>"
      ]
     },
     "execution_count": 77,
     "metadata": {},
     "output_type": "execute_result"
    },
    {
     "data": {
      "image/png": "[encoded data removed]",
      "text/plain": [
       "<Figure size 432x288 with 1 Axes>"
      ]
     },
     "metadata": {
      "needs_background": "light"
     },
     "output_type": "display_data"
    }
   ],
   "source": [
    "daily_returns_porfolios.plot()"
   ]
  },
  {
   "cell_type": "code",
   "execution_count": 78,
   "id": "b06565f5-52cc-4242-9e29-eb4dbb00b7b9",
   "metadata": {},
   "outputs": [
    {
     "data": {
      "text/plain": [
       "Date\n",
       "2015-03-02         NaN\n",
       "2015-03-03   -0.008530\n",
       "2015-03-04   -0.011872\n",
       "2015-03-05   -0.010544\n",
       "2015-03-06   -0.020411\n",
       "Name: Close, dtype: float64"
      ]
     },
     "execution_count": 78,
     "metadata": {},
     "output_type": "execute_result"
    }
   ],
   "source": [
    "cumulative_portfolio_returns = (1 + daily_returns_porfolios).cumprod() - 1\n",
    "cumulative_portfolio_returns.head()"
   ]
  },
  {
   "cell_type": "code",
   "execution_count": 79,
   "id": "b3782c66-3b36-48a0-ae96-8b4cafb99268",
   "metadata": {},
   "outputs": [
    {
     "data": {
      "text/plain": [
       "<AxesSubplot:xlabel='Date'>"
      ]
     },
     "execution_count": 79,
     "metadata": {},
     "output_type": "execute_result"
    },
    {
     "data": {
      "image/png": "[encoded data removed]",
      "text/plain": [
       "<Figure size 432x288 with 1 Axes>"
      ]
     },
     "metadata": {
      "needs_background": "light"
     },
     "output_type": "display_data"
    }
   ],
   "source": [
    "cumulative_portfolio_returns.plot()"
   ]
  },
  {
   "cell_type": "code",
   "execution_count": 80,
   "id": "613f1544-0720-4491-b0bb-f84632ea2e4f",
   "metadata": {},
   "outputs": [
    {
     "data": {
      "image/png": "[encoded data removed]",
      "text/plain": [
       "<Figure size 432x288 with 1 Axes>"
      ]
     },
     "metadata": {
      "needs_background": "light"
     },
     "output_type": "display_data"
    }
   ],
   "source": [
    "cumulative_portfolio_returns.plot(kind='box');"
   ]
  },
  {
   "cell_type": "code",
   "execution_count": 81,
   "id": "e7715c39-f0fc-4eae-8e27-eeea6405a62e",
   "metadata": {},
   "outputs": [
    {
     "data": {
      "image/png": "[encoded data removed]",
      "text/plain": [
       "<Figure size 432x288 with 1 Axes>"
      ]
     },
     "metadata": {
      "needs_background": "light"
     },
     "output_type": "display_data"
    },
    {
     "data": {
      "image/png": "[encoded data removed]",
      "text/plain": [
       "<Figure size 432x288 with 1 Axes>"
      ]
     },
     "metadata": {
      "needs_background": "light"
     },
     "output_type": "display_data"
    }
   ],
   "source": [
    "algo_df.astype(float).plot(kind='box');\n",
    "whale_df.astype(float).plot(kind='box');\n"
   ]
  },
  {
   "cell_type": "code",
   "execution_count": 82,
   "id": "2e37c608-1151-4941-8cf2-df741029eee9",
   "metadata": {},
   "outputs": [
    {
     "name": "stdout",
     "output_type": "stream",
     "text": [
      "                 Close\n",
      "Date                  \n",
      "2012-10-01  $12,370.19\n",
      "2012-10-02  $12,391.23\n",
      "2012-10-03  $12,359.47\n",
      "2012-10-04  $12,447.68\n",
      "2012-10-05  $12,418.99\n",
      "...                ...\n",
      "2019-12-20  $17,118.44\n",
      "2019-12-23  $17,128.71\n",
      "2019-12-24  $17,180.15\n",
      "2019-12-27  $17,168.21\n",
      "2019-12-30  $17,098.56\n",
      "\n",
      "[1818 rows x 1 columns]\n"
     ]
    }
   ],
   "source": [
    "print(s_and_p_df)"
   ]
  },
  {
   "cell_type": "code",
   "execution_count": 83,
   "id": "7b173971-9709-40b8-982e-972be28cb382",
   "metadata": {},
   "outputs": [
    {
     "data": {
      "text/plain": [
       "Date\n",
       "2015-03-02         NaN\n",
       "2015-03-03         NaN\n",
       "2015-03-04         NaN\n",
       "2015-03-05         NaN\n",
       "2015-03-06         NaN\n",
       "                ...   \n",
       "2019-04-25    0.003431\n",
       "2019-04-26    0.002604\n",
       "2019-04-29    0.002114\n",
       "2019-04-30    0.002179\n",
       "2019-05-01    0.003261\n",
       "Name: Close, Length: 1030, dtype: float64"
      ]
     },
     "execution_count": 83,
     "metadata": {},
     "output_type": "execute_result"
    }
   ],
   "source": [
    "# Calculating Standard Deviation \n",
    "cumulative_portfolio_returns.rolling(window=7).std()"
   ]
  },
  {
   "cell_type": "code",
   "execution_count": 84,
   "id": "c996c838-a3e9-4820-bc5f-fff7b6f47add",
   "metadata": {},
   "outputs": [
    {
     "data": {
      "text/plain": [
       "<AxesSubplot:xlabel='Date'>"
      ]
     },
     "execution_count": 84,
     "metadata": {},
     "output_type": "execute_result"
    },
    {
     "data": {
      "image/png": "[encoded data removed]",
      "text/plain": [
       "<Figure size 432x288 with 1 Axes>"
      ]
     },
     "metadata": {
      "needs_background": "light"
     },
     "output_type": "display_data"
    }
   ],
   "source": [
    "# plotting Standard Deviation\n",
    "cumulative_portfolio_returns.rolling(window=7).std().plot()"
   ]
  },
  {
   "cell_type": "code",
   "execution_count": 85,
   "id": "918ac1c5-3fbd-4909-a449-ef49c8e2f332",
   "metadata": {},
   "outputs": [
    {
     "data": {
      "text/plain": [
       "Date\n",
       "2015-03-02         NaN\n",
       "2015-03-03         NaN\n",
       "2015-03-04         NaN\n",
       "2015-03-05         NaN\n",
       "2015-03-06         NaN\n",
       "                ...   \n",
       "2019-04-25    0.041049\n",
       "2019-04-26    0.041173\n",
       "2019-04-29    0.041280\n",
       "2019-04-30    0.041383\n",
       "2019-05-01    0.041469\n",
       "Name: Close, Length: 1030, dtype: float64"
      ]
     },
     "execution_count": 85,
     "metadata": {},
     "output_type": "execute_result"
    }
   ],
   "source": [
    "# Anualized standard Deviation\n",
    "cumulative_portfolio_returns.rolling(window=252).std()"
   ]
  },
  {
   "cell_type": "code",
   "execution_count": 86,
   "id": "756586fa-b799-4ef4-b1d5-7cde57878449",
   "metadata": {},
   "outputs": [
    {
     "data": {
      "text/plain": [
       "<AxesSubplot:xlabel='Date'>"
      ]
     },
     "execution_count": 86,
     "metadata": {},
     "output_type": "execute_result"
    },
    {
     "data": {
      "image/png": "[encoded data removed]",
      "text/plain": [
       "<Figure size 432x288 with 1 Axes>"
      ]
     },
     "metadata": {
      "needs_background": "light"
     },
     "output_type": "display_data"
    }
   ],
   "source": [
    "# Plotting anualized Satandard Deviation \n",
    "cumulative_portfolio_returns.rolling(window=252).std().plot()"
   ]
  },
  {
   "cell_type": "code",
   "execution_count": 87,
   "id": "b3795f89-7596-4805-94a8-bedff1e5a191",
   "metadata": {},
   "outputs": [
    {
     "data": {
      "text/plain": [
       "Date\n",
       "2015-03-02         NaN\n",
       "2015-03-03         NaN\n",
       "2015-03-04         NaN\n",
       "2015-03-05         NaN\n",
       "2015-03-06         NaN\n",
       "                ...   \n",
       "2019-04-25    0.010967\n",
       "2019-04-26    0.010564\n",
       "2019-04-29    0.010016\n",
       "2019-04-30    0.008728\n",
       "2019-05-01    0.007939\n",
       "Name: Close, Length: 1030, dtype: float64"
      ]
     },
     "execution_count": 87,
     "metadata": {},
     "output_type": "execute_result"
    }
   ],
   "source": [
    "# Rolling Standard Deviation for 21 day window\n",
    "cumulative_portfolio_returns.rolling(window=21).std()\n"
   ]
  },
  {
   "cell_type": "code",
   "execution_count": 88,
   "id": "e0c6c89e-3375-4fba-a9d8-7bc851421b8d",
   "metadata": {},
   "outputs": [
    {
     "data": {
      "text/plain": [
       "<AxesSubplot:xlabel='Date'>"
      ]
     },
     "execution_count": 88,
     "metadata": {},
     "output_type": "execute_result"
    },
    {
     "data": {
      "image/png": "[encoded data removed]",
      "text/plain": [
       "<Figure size 432x288 with 1 Axes>"
      ]
     },
     "metadata": {
      "needs_background": "light"
     },
     "output_type": "display_data"
    }
   ],
   "source": [
    "cumulative_portfolio_returns.rolling(window=21).std().plot()"
   ]
  },
  {
   "cell_type": "code",
   "execution_count": 89,
   "id": "9860cf0e-6af0-4f7f-bc30-c68e6e4cec8a",
   "metadata": {},
   "outputs": [
    {
     "data": {
      "text/plain": [
       "<AxesSubplot:xlabel='Date'>"
      ]
     },
     "execution_count": 89,
     "metadata": {},
     "output_type": "execute_result"
    },
    {
     "data": {
      "image/png": "[encoded data removed]",
      "text/plain": [
       "<Figure size 432x288 with 1 Axes>"
      ]
     },
     "metadata": {
      "needs_background": "light"
     },
     "output_type": "display_data"
    }
   ],
   "source": [
    "cumulative_portfolio_returns.plot()"
   ]
  },
  {
   "cell_type": "code",
   "execution_count": 90,
   "id": "d83ceabd-7114-4b10-bd02-e90a127dc4e4",
   "metadata": {},
   "outputs": [],
   "source": [
    "price_correlation = combined_potfolios_df.corr()"
   ]
  },
  {
   "cell_type": "code",
   "execution_count": 91,
   "id": "78bff5fc-be12-4f69-b089-2a32ee1404b5",
   "metadata": {},
   "outputs": [
    {
     "name": "stdout",
     "output_type": "stream",
     "text": [
      "                               Algo 1    Algo 2  SOROS FUND MANAGEMENT LLC  \\\n",
      "Algo 1                       1.000000  0.284840                   0.313795   \n",
      "Algo 2                       0.284840  1.000000                   0.826667   \n",
      "SOROS FUND MANAGEMENT LLC    0.313795  0.826667                   1.000000   \n",
      "PAULSON & CO.INC.            0.266363  0.674015                   0.697076   \n",
      "TIGER GLOBAL MANAGEMENT LLC  0.161236  0.506689                   0.560964   \n",
      "BERKSHIRE HATHAWAY INC       0.289378  0.684609                   0.750181   \n",
      "\n",
      "                             PAULSON & CO.INC.   TIGER GLOBAL MANAGEMENT LLC  \\\n",
      "Algo 1                                 0.266363                     0.161236   \n",
      "Algo 2                                 0.674015                     0.506689   \n",
      "SOROS FUND MANAGEMENT LLC              0.697076                     0.560964   \n",
      "PAULSON & CO.INC.                      1.000000                     0.433034   \n",
      "TIGER GLOBAL MANAGEMENT LLC            0.433034                     1.000000   \n",
      "BERKSHIRE HATHAWAY INC                 0.540033                     0.423524   \n",
      "\n",
      "                             BERKSHIRE HATHAWAY INC  \n",
      "Algo 1                                     0.289378  \n",
      "Algo 2                                     0.684609  \n",
      "SOROS FUND MANAGEMENT LLC                  0.750181  \n",
      "PAULSON & CO.INC.                          0.540033  \n",
      "TIGER GLOBAL MANAGEMENT LLC                0.423524  \n",
      "BERKSHIRE HATHAWAY INC                     1.000000  \n"
     ]
    }
   ],
   "source": [
    "print(price_correlation)"
   ]
  },
  {
   "cell_type": "code",
   "execution_count": 92,
   "id": "66978376-8cef-4be2-b85e-8ff861ce3620",
   "metadata": {},
   "outputs": [
    {
     "data": {
      "text/plain": [
       "<AxesSubplot:>"
      ]
     },
     "execution_count": 92,
     "metadata": {},
     "output_type": "execute_result"
    },
    {
     "data": {
      "image/png": "[encoded data removed]",
      "text/plain": [
       "<Figure size 432x288 with 1 Axes>"
      ]
     },
     "metadata": {
      "needs_background": "light"
     },
     "output_type": "display_data"
    }
   ],
   "source": [
    "price_correlation.plot()"
   ]
  },
  {
   "cell_type": "code",
   "execution_count": 93,
   "id": "84cdd28c-e5c5-400f-afd3-72722222f042",
   "metadata": {},
   "outputs": [],
   "source": [
    "import seaborn as sns"
   ]
  },
  {
   "cell_type": "code",
   "execution_count": 94,
   "id": "8a739d22-4eee-4bf3-a2e0-f68a7b00c049",
   "metadata": {},
   "outputs": [
    {
     "data": {
      "text/plain": [
       "<AxesSubplot:>"
      ]
     },
     "execution_count": 94,
     "metadata": {},
     "output_type": "execute_result"
    },
    {
     "data": {
      "image/png": "[encoded data removed]",
      "text/plain": [
       "<Figure size 432x288 with 2 Axes>"
      ]
     },
     "metadata": {
      "needs_background": "light"
     },
     "output_type": "display_data"
    }
   ],
   "source": [
    "sns.heatmap(price_correlation, vmin=-1, vmax=1)"
   ]
  }
 ],
 "metadata": {
  "kernelspec": {
   "display_name": "Python 3 (ipykernel)",
   "language": "python",
   "name": "python3"
  },
  "language_info": {
   "codemirror_mode": {
    "name": "ipython",
    "version": 3
   },
   "file_extension": ".py",
   "mimetype": "text/x-python",
   "name": "python",
   "nbconvert_exporter": "python",
   "pygments_lexer": "ipython3",
   "version": "3.9.12"
  }
 },
 "nbformat": 4,
 "nbformat_minor": 5
}
